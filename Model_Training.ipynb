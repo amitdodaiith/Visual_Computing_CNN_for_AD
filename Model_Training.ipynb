{
  "nbformat": 4,
  "nbformat_minor": 0,
  "metadata": {
    "colab": {
      "provenance": [],
      "gpuType": "T4"
    },
    "kernelspec": {
      "name": "python3",
      "display_name": "Python 3"
    },
    "language_info": {
      "name": "python"
    },
    "accelerator": "GPU",
    "gpuClass": "standard"
  },
  "cells": [
    {
      "cell_type": "markdown",
      "source": [
        "# Notebook to load the data and train the model from scratch"
      ],
      "metadata": {
        "id": "0B1Ll64oDtg3"
      }
    },
    {
      "cell_type": "code",
      "execution_count": 1,
      "metadata": {
        "colab": {
          "base_uri": "https://localhost:8080/"
        },
        "id": "2q9pgs4eC7hb",
        "outputId": "7a1597b6-97ee-4101-c8a1-6170e6361461"
      },
      "outputs": [
        {
          "output_type": "stream",
          "name": "stdout",
          "text": [
            "Mounted at /content/gdrive\n"
          ]
        }
      ],
      "source": [
        "from google.colab import drive\n",
        "drive.mount('/content/gdrive', force_remount=True)"
      ]
    },
    {
      "cell_type": "code",
      "source": [
        "import warnings\n",
        "warnings.filterwarnings(\"ignore\")"
      ],
      "metadata": {
        "id": "fmCBda4iDGJx"
      },
      "execution_count": 2,
      "outputs": []
    },
    {
      "cell_type": "code",
      "source": [
        "cd /content/gdrive/MyDrive/Visual_Computing/CNN_design_for_AD/"
      ],
      "metadata": {
        "colab": {
          "base_uri": "https://localhost:8080/"
        },
        "id": "SqZuMLgmDJ53",
        "outputId": "ebc61731-c3d8-4228-cb9b-bd7b6a8cfc1f"
      },
      "execution_count": 3,
      "outputs": [
        {
          "output_type": "stream",
          "name": "stdout",
          "text": [
            "/content/gdrive/MyDrive/Visual_Computing/CNN_design_for_AD\n"
          ]
        }
      ]
    },
    {
      "cell_type": "markdown",
      "source": [
        "# Configuration for model training"
      ],
      "metadata": {
        "id": "H33bIHA58rBg"
      }
    },
    {
      "cell_type": "code",
      "source": [
        "cat config.yaml"
      ],
      "metadata": {
        "id": "d8KgsEVVOU7w",
        "outputId": "cfa920c6-0461-4355-8922-296062ed08d3",
        "colab": {
          "base_uri": "https://localhost:8080/"
        }
      },
      "execution_count": 4,
      "outputs": [
        {
          "output_type": "stream",
          "name": "stdout",
          "text": [
            "file_name: ./saved_model/1007_pooling_age\r\n",
            "data:\r\n",
            "  data_root_dir: data/\r\n",
            "  dir_to_scans: ./FULL_DATA/subjects\r\n",
            "  dir_to_tsv: ./FULL_DATA/TSV_FOR_TRAIN\r\n",
            "  batch_size: 4\r\n",
            "  val_batch_size: 2\r\n",
            "  workers: 2\r\n",
            "  percentage_usage: 1.0\r\n",
            "exp_name: 1007_pooling_age\r\n",
            "visdom:\r\n",
            "  port: 8064 \r\n",
            "  server: \r\n",
            "model:\r\n",
            "  arch: ours\r\n",
            "  input_channel: 1\r\n",
            "  nhid: 512\r\n",
            "  feature_dim: 1024\r\n",
            "  n_label: 3\r\n",
            "  expansion: 8\r\n",
            "  num_blocks: 0\r\n",
            "  type_name: conv3x3x3\r\n",
            "  norm_type: Instance\r\n",
            "adv_model:\r\n",
            "  nhid: 36\r\n",
            "  out_dim: 12\r\n",
            "mmse_model:\r\n",
            "  nhid: 64\r\n",
            "training_parameters:\r\n",
            "  use_age: False\r\n",
            "  pretrain:  #dir to saved model here\r\n",
            "  max_iter: 16000\r\n",
            "  start_epoch: 0\r\n",
            "  epochs: 30\r\n",
            "  print_freq: 5\r\n",
            "  max_grad_l2_norm:\r\n",
            "  report_interval: 100\r\n",
            "  snapshot_interval: 1000\r\n",
            "\r\n",
            "optimizer:\r\n",
            "  method: SGD\r\n",
            "  par:\r\n",
            "    lr: 0.01\r\n",
            "    weight_decay: 0.000\r\n",
            "\r\n"
          ]
        }
      ]
    },
    {
      "cell_type": "markdown",
      "source": [
        "# Dataset : Processed nifty files for 14 subjects\n",
        "\n",
        "## 8 subjects used for training , 3 for validation and 3 for testing"
      ],
      "metadata": {
        "id": "z7OA6Elx8vUt"
      }
    },
    {
      "cell_type": "code",
      "source": [
        "ls ./FULL_DATA/subjects"
      ],
      "metadata": {
        "colab": {
          "base_uri": "https://localhost:8080/"
        },
        "id": "iYwgtLOS8TMa",
        "outputId": "42d90f7e-1246-4a4c-9104-e0a5ae28123b"
      },
      "execution_count": 5,
      "outputs": [
        {
          "output_type": "stream",
          "name": "stdout",
          "text": [
            "\u001b[0m\u001b[01;34msub-ADNI002S0685\u001b[0m/  \u001b[01;34msub-ADNI033S1016\u001b[0m/  \u001b[01;34msub-ADNI073S0746\u001b[0m/  \u001b[01;34msub-ADNI130S1290\u001b[0m/\n",
            "\u001b[01;34msub-ADNI007S0068\u001b[0m/  \u001b[01;34msub-ADNI033S1281\u001b[0m/  \u001b[01;34msub-ADNI094S1397\u001b[0m/  \u001b[01;34msub-ADNI133S0792\u001b[0m/\n",
            "\u001b[01;34msub-ADNI027S1082\u001b[0m/  \u001b[01;34msub-ADNI051S1072\u001b[0m/  \u001b[01;34msub-ADNI126S0606\u001b[0m/\n",
            "\u001b[01;34msub-ADNI029S0866\u001b[0m/  \u001b[01;34msub-ADNI051S1296\u001b[0m/  \u001b[01;34msub-ADNI128S1407\u001b[0m/\n"
          ]
        }
      ]
    },
    {
      "cell_type": "markdown",
      "source": [
        "List of subjects in train set"
      ],
      "metadata": {
        "id": "4vndNxBC861E"
      }
    },
    {
      "cell_type": "code",
      "source": [
        "cat ./FULL_DATA/TSV_FOR_TRAIN/Train_diagnosis_ADNI.tsv"
      ],
      "metadata": {
        "colab": {
          "base_uri": "https://localhost:8080/"
        },
        "id": "RXO1hGZ-8bu5",
        "outputId": "d30b5def-04a1-4a0a-bed1-0a3e7aecbb2d"
      },
      "execution_count": 7,
      "outputs": [
        {
          "output_type": "stream",
          "name": "stdout",
          "text": [
            "participant_id\tsession_id\tdiagnosis\tmmse\tcdr\tcdr_sb\tage\texamination_date\tearliest_time\tage_rounded\r\n",
            "sub-ADNI029S0866\tses-M00\tCN\t28.0\t0.0\t0.0\t80.0\t2006-10-05\t2006-10-05\t80.0\r\n",
            "sub-ADNI029S0866\tses-M06\tCN\t29.0\t0.0\t0.0\t80.49555099247091\t2007-04-04\t2006-10-05\t80.5\r\n",
            "sub-ADNI029S0866\tses-M12\tCN\t29.0\t0.0\t0.0\t80.99657768651609\t2007-10-04\t2006-10-05\t81.0\r\n",
            "sub-ADNI029S0866\tses-M24\tCN\t30.0\t0.0\t0.0\t82.01232032854209\t2008-10-09\t2006-10-05\t82.0\r\n",
            "sub-ADNI029S0866\tses-M36\tCN\t29.0\t0.0\t0.0\t83.04722792607802\t2009-10-22\t2006-10-05\t83.0\r\n",
            "sub-ADNI094S1397\tses-M00\tAD\t24.0\t1.0\t4.5\t55.1\t2007-05-15\t2007-05-15\t55.0\r\n",
            "sub-ADNI094S1397\tses-M06\tAD\t22.0\t1.0\t4.5\t55.59828884325805\t2007-11-13\t2007-05-15\t55.5\r\n",
            "sub-ADNI094S1397\tses-M12\tAD\t11.0\t1.0\t9.0\t56.10205338809035\t2008-05-15\t2007-05-15\t56.0\r\n",
            "sub-ADNI133S0792\tses-M18\tMCI\t30.0\t0.5\t0.5\t74.9757015742642\t2008-03-17\t2006-09-25\t75.0\r\n",
            "sub-ADNI133S0792\tses-M00\tMCI\t30.0\t0.5\t1.0\t73.5\t2006-09-25\t2006-09-25\t73.5\r\n",
            "sub-ADNI133S0792\tses-M06\tMCI\t29.0\t0.5\t0.5\t73.98459958932239\t2007-03-21\t2006-09-25\t74.0\r\n",
            "sub-ADNI133S0792\tses-M12\tMCI\t29.0\t0.5\t0.5\t74.49931553730322\t2007-09-25\t2006-09-25\t74.5\r\n",
            "sub-ADNI133S0792\tses-M24\tMCI\t28.0\t0.5\t1.0\t75.48220396988364\t2008-09-18\t2006-09-25\t75.5\r\n",
            "sub-ADNI130S1290\tses-M00\tAD\t25.0\t0.5\t4.0\t79.3\t2007-02-27\t2007-02-27\t79.5\r\n",
            "sub-ADNI130S1290\tses-M06\tAD\t21.0\t0.5\t4.0\t79.83388090349075\t2007-09-10\t2007-02-27\t80.0\r\n",
            "sub-ADNI130S1290\tses-M12\tAD\t19.0\t1.0\t5.0\t80.30479123887748\t2008-02-29\t2007-02-27\t80.5\r\n",
            "sub-ADNI007S0068\tses-M00\tCN\t30.0\t0.0\t0.0\t74.4\t2005-12-14\t2005-12-14\t74.5\r\n",
            "sub-ADNI007S0068\tses-M06\tCN\t30.0\t0.0\t0.0\t74.91197809719371\t2006-06-19\t2005-12-14\t75.0\r\n",
            "sub-ADNI007S0068\tses-M12\tCN\t28.0\t0.0\t0.0\t75.35824777549624\t2006-11-29\t2005-12-14\t75.5\r\n",
            "sub-ADNI007S0068\tses-M24\tCN\t29.0\t0.0\t0.0\t76.38767967145792\t2007-12-10\t2005-12-14\t76.5\r\n",
            "sub-ADNI007S0068\tses-M36\tCN\t28.0\t0.0\t0.0\t77.36509240246407\t2008-12-01\t2005-12-14\t77.5\r\n",
            "sub-ADNI007S0068\tses-M48\tCN\t29.0\t0.0\t0.0\t78.49582477754963\t2010-01-18\t2005-12-14\t78.5\r\n",
            "sub-ADNI007S0068\tses-M60\tCN\t30.0\t0.0\t0.0\t79.47323750855578\t2011-01-10\t2005-12-14\t79.5\r\n",
            "sub-ADNI027S1082\tses-M00\tAD\t22.0\t1.0\t6.0\t69.5\t2006-12-06\t2006-12-06\t69.5\r\n",
            "sub-ADNI027S1082\tses-M06\tAD\t20.0\t1.0\t7.0\t69.99281314168378\t2007-06-04\t2006-12-06\t70.0\r\n",
            "sub-ADNI027S1082\tses-M12\tAD\t10.0\t1.0\t7.0\t70.51848049281314\t2007-12-13\t2006-12-06\t70.5\r\n",
            "sub-ADNI027S1082\tses-M24\tAD\t5.0\t2.0\t12.0\t71.49315537303217\t2008-12-03\t2006-12-06\t71.5\r\n",
            "sub-ADNI033S1281\tses-M00\tAD\t25.0\t1.0\t4.5\t77.6\t2007-03-02\t2007-03-02\t77.5\r\n",
            "sub-ADNI033S1281\tses-M06\tAD\t25.0\t1.0\t5.0\t78.07912388774811\t2007-08-24\t2007-03-02\t78.0\r\n",
            "sub-ADNI033S1281\tses-M24\tAD\t21.0\t2.0\t11.0\t79.5876796714579\t2009-02-25\t2007-03-02\t79.5\r\n",
            "sub-ADNI033S1281\tses-M12\tAD\t24.0\t1.0\t5.0\t78.59657768651608\t2008-02-29\t2007-03-02\t78.5\r\n",
            "sub-ADNI051S1072\tses-M00\tMCI\t30.0\t0.5\t1.0\t59.8\t2006-12-20\t2006-12-20\t60.0\r\n",
            "sub-ADNI051S1072\tses-M06\tMCI\t29.0\t0.0\t0.0\t60.33388090349076\t2007-07-03\t2006-12-20\t60.5\r\n",
            "sub-ADNI051S1072\tses-M12\tMCI\t28.0\t0.0\t0.0\t60.77741273100616\t2007-12-12\t2006-12-20\t61.0\r\n",
            "sub-ADNI051S1072\tses-M18\tMCI\t26.0\t0.0\t0.0\t61.35509924709103\t2008-07-10\t2006-12-20\t61.5\r\n",
            "sub-ADNI051S1072\tses-M36\tMCI\t28.0\t0.5\t1.0\t63.04161533196441\t2010-03-18\t2006-12-20\t63.0\r\n"
          ]
        }
      ]
    },
    {
      "cell_type": "markdown",
      "source": [
        "List of subjects in validation set"
      ],
      "metadata": {
        "id": "mESwyVc59Be6"
      }
    },
    {
      "cell_type": "code",
      "source": [
        "cat ./FULL_DATA/TSV_FOR_TRAIN/Val_diagnosis_ADNI.tsv"
      ],
      "metadata": {
        "colab": {
          "base_uri": "https://localhost:8080/"
        },
        "id": "2j0fFJ-X8gNk",
        "outputId": "b9216306-7f40-4502-ad51-02dee4d2e131"
      },
      "execution_count": 8,
      "outputs": [
        {
          "output_type": "stream",
          "name": "stdout",
          "text": [
            "participant_id\tsession_id\tdiagnosis\tmmse\tcdr\tcdr_sb\tage\texamination_date\tearliest_time\tage_rounded\r\n",
            "sub-ADNI033S1016\tses-M00\tCN\t29.0\t0.0\t0.0\t78.3\t2006-11-13\t2006-11-13\t78.5\r\n",
            "sub-ADNI033S1016\tses-M06\tCN\t27.0\t0.0\t0.0\t78.84209445585215\t2007-05-30\t2006-11-13\t79.0\r\n",
            "sub-ADNI033S1016\tses-M12\tCN\t30.0\t0.0\t0.0\t79.3403832991102\t2007-11-28\t2006-11-13\t79.5\r\n",
            "sub-ADNI033S1016\tses-M24\tCN\t28.0\t0.0\t0.0\t80.3561259411362\t2008-12-03\t2006-11-13\t80.5\r\n",
            "sub-ADNI033S1016\tses-M36\tCN\t29.0\t0.0\t0.0\t81.35270362765229\t2009-12-02\t2006-11-13\t81.5\r\n",
            "sub-ADNI033S1016\tses-M48\tCN\t30.0\t0.0\t0.0\t82.2917864476386\t2010-11-10\t2006-11-13\t82.5\r\n",
            "sub-ADNI126S0606\tses-M00\tAD\t23.0\t0.5\t3.5\t68.5\t2006-08-02\t2006-08-02\t68.5\r\n",
            "sub-ADNI126S0606\tses-M06\tAD\t25.0\t1.0\t5.0\t69.0119780971937\t2007-02-05\t2006-08-02\t69.0\r\n",
            "sub-ADNI126S0606\tses-M12\tAD\t25.0\t1.0\t5.0\t69.49931553730322\t2007-08-02\t2006-08-02\t69.5\r\n",
            "sub-ADNI126S0606\tses-M24\tAD\t22.0\t1.0\t7.0\t70.47672826830937\t2008-07-24\t2006-08-02\t70.5\r\n",
            "sub-ADNI128S1407\tses-M00\tMCI\t24.0\t0.5\t2.5\t74.6\t2007-06-25\t2007-06-25\t74.5\r\n",
            "sub-ADNI128S1407\tses-M06\tMCI\t26.0\t0.5\t2.5\t75.19411362080766\t2008-01-28\t2007-06-25\t75.0\r\n",
            "sub-ADNI128S1407\tses-M24\tMCI\t23.0\t0.5\t3.5\t76.77385352498288\t2009-08-27\t2007-06-25\t77.0\r\n"
          ]
        }
      ]
    },
    {
      "cell_type": "code",
      "source": [
        "! python main.py"
      ],
      "metadata": {
        "colab": {
          "base_uri": "https://localhost:8080/"
        },
        "id": "bg7geRtaD4tC",
        "outputId": "99b4484d-1c95-4774-ba3a-9b4494ccdfee"
      },
      "execution_count": 9,
      "outputs": [
        {
          "output_type": "stream",
          "name": "stdout",
          "text": [
            "device:cuda:0\n",
            "In total  8  patients in training set\n",
            "Epoch: [0][0/9]\tTime 24.199 (24.199)\tData 15.078 (15.078)\tLoss 1.0936 (1.0936)\t\n",
            "Epoch: [0][5/9]\tTime 1.041 (8.094)\tData 0.000 (5.692)\tLoss 1.0183 (1.1710)\t\n",
            "Validation [0/7]\tTime 8.276 (8.276)\tData 7.971 (7.971)\tLoss 1.8139 (1.8139)\t\n",
            "Validation [5/7]\tTime 0.240 (3.756)\tData 0.000 (3.479)\tLoss 1.0252 (1.3153)\t\n",
            "Epoch [0]: Validation Accuracy 33.333\t\n",
            "saved_model\n",
            "Epoch: [1][0/9]\tTime 2.627 (2.627)\tData 1.511 (1.511)\tLoss 1.1885 (1.1885)\t\n",
            "Epoch: [1][5/9]\tTime 1.084 (1.333)\tData 0.000 (0.256)\tLoss 1.1636 (1.1646)\t\n",
            "Validation [0/7]\tTime 1.303 (1.303)\tData 1.061 (1.061)\tLoss 1.1727 (1.1727)\t\n",
            "Validation [5/7]\tTime 0.276 (0.459)\tData 0.000 (0.210)\tLoss 1.2425 (1.0502)\t\n",
            "Epoch [1]: Validation Accuracy 33.333\t\n",
            "saved_model\n",
            "Epoch: [2][0/9]\tTime 2.158 (2.158)\tData 0.996 (0.996)\tLoss 1.0146 (1.0146)\t\n",
            "Epoch: [2][5/9]\tTime 1.099 (1.278)\tData 0.000 (0.168)\tLoss 1.1137 (1.1084)\t\n",
            "Validation [0/7]\tTime 0.741 (0.741)\tData 0.493 (0.493)\tLoss 1.0163 (1.0163)\t\n",
            "Validation [5/7]\tTime 0.271 (0.343)\tData 0.000 (0.088)\tLoss 1.1463 (1.0093)\t\n",
            "Epoch [2]: Validation Accuracy 33.333\t\n",
            "saved_model\n",
            "Epoch: [3][0/9]\tTime 3.150 (3.150)\tData 2.009 (2.009)\tLoss 1.0159 (1.0159)\t\n",
            "Epoch: [3][5/9]\tTime 1.120 (1.467)\tData 0.001 (0.336)\tLoss 1.1244 (1.0590)\t\n",
            "Validation [0/7]\tTime 1.265 (1.265)\tData 1.007 (1.007)\tLoss 0.8617 (0.8617)\t\n",
            "Validation [5/7]\tTime 0.266 (0.559)\tData 0.000 (0.297)\tLoss 1.0843 (0.9595)\t\n",
            "Epoch [3]: Validation Accuracy 33.333\t\n",
            "saved_model\n",
            "Epoch: [4][0/9]\tTime 2.044 (2.044)\tData 0.882 (0.882)\tLoss 1.1178 (1.1178)\t\n",
            "Epoch: [4][5/9]\tTime 1.158 (1.301)\tData 0.002 (0.148)\tLoss 0.9010 (1.0060)\t\n",
            "Validation [0/7]\tTime 0.744 (0.744)\tData 0.483 (0.483)\tLoss 1.4056 (1.4056)\t\n",
            "Validation [5/7]\tTime 0.270 (0.355)\tData 0.000 (0.086)\tLoss 0.4494 (1.0953)\t\n",
            "Epoch [4]: Validation Accuracy 58.333\t\n",
            "saved_model\n",
            "Epoch: [5][0/9]\tTime 2.376 (2.376)\tData 1.136 (1.136)\tLoss 0.8988 (0.8988)\t\n",
            "Epoch: [5][5/9]\tTime 1.192 (1.390)\tData 0.000 (0.196)\tLoss 0.6194 (0.8245)\t\n",
            "Validation [0/7]\tTime 0.641 (0.641)\tData 0.381 (0.381)\tLoss 1.6523 (1.6523)\t\n",
            "Validation [5/7]\tTime 0.277 (0.343)\tData 0.000 (0.064)\tLoss 0.2413 (1.1293)\t\n",
            "Epoch [5]: Validation Accuracy 58.333\t\n",
            "saved_model\n",
            "Epoch: [6][0/9]\tTime 2.482 (2.482)\tData 1.225 (1.225)\tLoss 1.6848 (1.6848)\t\n",
            "Epoch: [6][5/9]\tTime 1.211 (1.459)\tData 0.000 (0.244)\tLoss 0.8441 (0.9369)\t\n",
            "Validation [0/7]\tTime 0.670 (0.670)\tData 0.411 (0.411)\tLoss 2.8762 (2.8762)\t\n",
            "Validation [5/7]\tTime 0.273 (0.343)\tData 0.000 (0.069)\tLoss 0.1005 (1.7545)\t\n",
            "Epoch [6]: Validation Accuracy 58.333\t\n",
            "saved_model\n",
            "Epoch: [7][0/9]\tTime 2.630 (2.630)\tData 1.390 (1.390)\tLoss 0.6151 (0.6151)\t\n",
            "Epoch: [7][5/9]\tTime 1.168 (1.423)\tData 0.000 (0.237)\tLoss 1.0844 (0.7115)\t\n",
            "Validation [0/7]\tTime 1.071 (1.071)\tData 0.810 (0.810)\tLoss 4.4634 (4.4634)\t\n",
            "Validation [5/7]\tTime 0.264 (0.403)\tData 0.000 (0.136)\tLoss 0.0386 (2.5174)\t\n",
            "Epoch [7]: Validation Accuracy 58.333\t\n",
            "saved_model\n",
            "Epoch: [8][0/9]\tTime 2.909 (2.909)\tData 1.727 (1.727)\tLoss 0.8056 (0.8056)\t\n",
            "Epoch: [8][5/9]\tTime 1.160 (1.446)\tData 0.000 (0.289)\tLoss 0.8101 (0.7042)\t\n",
            "Validation [0/7]\tTime 1.139 (1.139)\tData 0.868 (0.868)\tLoss 3.8281 (3.8281)\t\n",
            "Validation [5/7]\tTime 0.267 (0.503)\tData 0.000 (0.240)\tLoss 0.0615 (2.0596)\t\n",
            "Epoch [8]: Validation Accuracy 66.667\t\n",
            "saved_model\n",
            "Epoch: [9][0/9]\tTime 2.170 (2.170)\tData 0.955 (0.955)\tLoss 0.5186 (0.5186)\t\n",
            "Epoch: [9][5/9]\tTime 1.177 (1.332)\tData 0.000 (0.160)\tLoss 1.0930 (1.3849)\t\n",
            "Validation [0/7]\tTime 0.695 (0.695)\tData 0.441 (0.441)\tLoss 1.3931 (1.3931)\t\n",
            "Validation [5/7]\tTime 0.271 (0.344)\tData 0.000 (0.074)\tLoss 0.2748 (0.9345)\t\n",
            "Epoch [9]: Validation Accuracy 66.667\t\n",
            "saved_model\n",
            "Epoch: [10][0/9]\tTime 2.122 (2.122)\tData 0.924 (0.924)\tLoss 0.6299 (0.6299)\t\n",
            "Epoch: [10][5/9]\tTime 1.196 (1.341)\tData 0.004 (0.155)\tLoss 0.6603 (0.8027)\t\n",
            "Validation [0/7]\tTime 0.651 (0.651)\tData 0.391 (0.391)\tLoss 2.4091 (2.4091)\t\n",
            "Validation [5/7]\tTime 0.275 (0.338)\tData 0.000 (0.066)\tLoss 0.2394 (1.5963)\t\n",
            "Epoch [10]: Validation Accuracy 33.333\t\n",
            "saved_model\n",
            "Epoch: [11][0/9]\tTime 2.489 (2.489)\tData 1.273 (1.273)\tLoss 0.4911 (0.4911)\t\n",
            "Epoch: [11][5/9]\tTime 1.175 (1.410)\tData 0.000 (0.213)\tLoss 0.4730 (0.5749)\t\n",
            "Validation [0/7]\tTime 0.705 (0.705)\tData 0.444 (0.444)\tLoss 2.1398 (2.1398)\t\n",
            "Validation [5/7]\tTime 0.272 (0.348)\tData 0.000 (0.075)\tLoss 0.2478 (1.2963)\t\n",
            "Epoch [11]: Validation Accuracy 58.333\t\n",
            "saved_model\n",
            "Epoch: [12][0/9]\tTime 2.209 (2.209)\tData 1.006 (1.006)\tLoss 0.4929 (0.4929)\t\n",
            "Epoch: [12][5/9]\tTime 1.167 (1.351)\tData 0.000 (0.168)\tLoss 0.5110 (0.7401)\t\n",
            "Validation [0/7]\tTime 0.716 (0.716)\tData 0.451 (0.451)\tLoss 3.5167 (3.5167)\t\n",
            "Validation [5/7]\tTime 0.266 (0.345)\tData 0.000 (0.076)\tLoss 0.0674 (2.0032)\t\n",
            "Epoch [12]: Validation Accuracy 58.333\t\n",
            "saved_model\n",
            "Epoch: [13][0/9]\tTime 2.822 (2.822)\tData 1.610 (1.610)\tLoss 0.3153 (0.3153)\t\n",
            "Epoch: [13][5/9]\tTime 1.163 (1.439)\tData 0.000 (0.272)\tLoss 0.2702 (0.5398)\t\n",
            "Validation [0/7]\tTime 0.821 (0.821)\tData 0.560 (0.560)\tLoss 1.2601 (1.2601)\t\n",
            "Validation [5/7]\tTime 0.264 (0.364)\tData 0.000 (0.094)\tLoss 2.2675 (1.5562)\t\n",
            "Epoch [13]: Validation Accuracy 0.000\t\n",
            "saved_model\n",
            "Epoch: [14][0/9]\tTime 2.769 (2.769)\tData 1.593 (1.593)\tLoss 0.9930 (0.9930)\t\n",
            "Epoch: [14][5/9]\tTime 1.170 (1.433)\tData 0.000 (0.266)\tLoss 0.2054 (0.6151)\t\n",
            "Validation [0/7]\tTime 1.135 (1.135)\tData 0.863 (0.863)\tLoss 4.0884 (4.0884)\t\n",
            "Validation [5/7]\tTime 0.267 (0.469)\tData 0.000 (0.205)\tLoss 0.2628 (2.1097)\t\n",
            "Epoch [14]: Validation Accuracy 58.333\t\n",
            "saved_model\n",
            "Epoch: [15][0/9]\tTime 2.173 (2.173)\tData 0.956 (0.956)\tLoss 0.3887 (0.3887)\t\n",
            "Epoch: [15][5/9]\tTime 1.183 (1.339)\tData 0.000 (0.160)\tLoss 0.4769 (0.4256)\t\n",
            "Validation [0/7]\tTime 1.123 (1.123)\tData 0.858 (0.858)\tLoss 2.3230 (2.3230)\t\n",
            "Validation [5/7]\tTime 0.279 (0.475)\tData 0.000 (0.208)\tLoss 0.1953 (1.4683)\t\n",
            "Epoch [15]: Validation Accuracy 50.000\t\n",
            "saved_model\n",
            "Epoch: [16][0/9]\tTime 2.191 (2.191)\tData 0.991 (0.991)\tLoss 0.5927 (0.5927)\t\n",
            "Epoch: [16][5/9]\tTime 1.179 (1.348)\tData 0.000 (0.166)\tLoss 0.4510 (0.5038)\t\n",
            "Validation [0/7]\tTime 0.731 (0.731)\tData 0.466 (0.466)\tLoss 6.2112 (6.2112)\t\n",
            "Validation [5/7]\tTime 0.266 (0.350)\tData 0.000 (0.078)\tLoss 0.0222 (3.2627)\t\n",
            "Epoch [16]: Validation Accuracy 58.333\t\n",
            "saved_model\n",
            "Epoch: [17][0/9]\tTime 2.204 (2.204)\tData 0.969 (0.969)\tLoss 1.0791 (1.0791)\t\n",
            "Epoch: [17][5/9]\tTime 1.166 (1.342)\tData 0.000 (0.162)\tLoss 0.4211 (0.7588)\t\n",
            "Validation [0/7]\tTime 0.782 (0.782)\tData 0.521 (0.521)\tLoss 5.5146 (5.5146)\t\n",
            "Validation [5/7]\tTime 0.266 (0.356)\tData 0.000 (0.088)\tLoss 0.0094 (2.9229)\t\n",
            "Epoch [17]: Validation Accuracy 66.667\t\n",
            "saved_model\n",
            "Epoch: [18][0/9]\tTime 2.160 (2.160)\tData 0.965 (0.965)\tLoss 0.4476 (0.4476)\t\n",
            "Epoch: [18][5/9]\tTime 1.175 (1.335)\tData 0.000 (0.161)\tLoss 0.8820 (0.4398)\t\n",
            "Validation [0/7]\tTime 0.762 (0.762)\tData 0.502 (0.502)\tLoss 4.4976 (4.4976)\t\n",
            "Validation [5/7]\tTime 0.266 (0.353)\tData 0.000 (0.084)\tLoss 0.2581 (2.3159)\t\n",
            "Epoch [18]: Validation Accuracy 66.667\t\n",
            "saved_model\n",
            "Epoch: [19][0/9]\tTime 2.238 (2.238)\tData 0.999 (0.999)\tLoss 0.5519 (0.5519)\t\n",
            "Epoch: [19][5/9]\tTime 1.171 (1.353)\tData 0.000 (0.169)\tLoss 0.2545 (0.2754)\t\n",
            "Validation [0/7]\tTime 0.780 (0.780)\tData 0.521 (0.521)\tLoss 7.3561 (7.3561)\t\n",
            "Validation [5/7]\tTime 0.273 (0.355)\tData 0.000 (0.087)\tLoss 0.0013 (3.8356)\t\n",
            "Epoch [19]: Validation Accuracy 66.667\t\n",
            "saved_model\n",
            "Epoch: [20][0/9]\tTime 2.181 (2.181)\tData 0.997 (0.997)\tLoss 0.7207 (0.7207)\t\n",
            "Epoch: [20][5/9]\tTime 1.181 (1.348)\tData 0.000 (0.169)\tLoss 0.7360 (0.5362)\t\n",
            "Validation [0/7]\tTime 0.692 (0.692)\tData 0.432 (0.432)\tLoss 5.7886 (5.7886)\t\n",
            "Validation [5/7]\tTime 0.272 (0.343)\tData 0.000 (0.073)\tLoss 0.0057 (3.2678)\t\n",
            "Epoch [20]: Validation Accuracy 58.333\t\n",
            "saved_model\n",
            "Epoch: [21][0/9]\tTime 2.235 (2.235)\tData 1.045 (1.045)\tLoss 0.1744 (0.1744)\t\n",
            "Epoch: [21][5/9]\tTime 1.172 (1.347)\tData 0.000 (0.175)\tLoss 0.4384 (0.2719)\t\n",
            "Validation [0/7]\tTime 0.715 (0.715)\tData 0.455 (0.455)\tLoss 9.9523 (9.9523)\t\n",
            "Validation [5/7]\tTime 0.267 (0.347)\tData 0.000 (0.077)\tLoss 0.0020 (5.2102)\t\n",
            "Epoch [21]: Validation Accuracy 58.333\t\n",
            "saved_model\n",
            "Epoch: [22][0/9]\tTime 2.167 (2.167)\tData 0.978 (0.978)\tLoss 0.1323 (0.1323)\t\n",
            "Epoch: [22][5/9]\tTime 1.175 (1.337)\tData 0.000 (0.165)\tLoss 0.7827 (0.6461)\t\n",
            "Validation [0/7]\tTime 0.808 (0.808)\tData 0.547 (0.547)\tLoss 6.1226 (6.1226)\t\n",
            "Validation [5/7]\tTime 0.271 (0.360)\tData 0.000 (0.092)\tLoss 0.0897 (3.1200)\t\n",
            "Epoch [22]: Validation Accuracy 66.667\t\n",
            "saved_model\n",
            "Epoch: [23][0/9]\tTime 2.797 (2.797)\tData 1.584 (1.584)\tLoss 0.1585 (0.1585)\t\n",
            "Epoch: [23][5/9]\tTime 1.157 (1.439)\tData 0.000 (0.266)\tLoss 0.3422 (0.5861)\t\n",
            "Validation [0/7]\tTime 0.799 (0.799)\tData 0.546 (0.546)\tLoss 7.8977 (7.8977)\t\n",
            "Validation [5/7]\tTime 0.270 (0.360)\tData 0.000 (0.091)\tLoss 0.0197 (4.1058)\t\n",
            "Epoch [23]: Validation Accuracy 66.667\t\n",
            "saved_model\n",
            "Epoch: [24][0/9]\tTime 2.844 (2.844)\tData 1.611 (1.611)\tLoss 0.0783 (0.0783)\t\n",
            "Epoch: [24][5/9]\tTime 1.173 (1.447)\tData 0.000 (0.269)\tLoss 0.1149 (0.3799)\t\n",
            "Validation [0/7]\tTime 0.769 (0.769)\tData 0.509 (0.509)\tLoss 8.7516 (8.7516)\t\n",
            "Validation [5/7]\tTime 0.272 (0.375)\tData 0.000 (0.105)\tLoss 0.0316 (4.4081)\t\n",
            "Epoch [24]: Validation Accuracy 66.667\t\n",
            "saved_model\n",
            "Epoch: [25][0/9]\tTime 2.822 (2.822)\tData 1.591 (1.591)\tLoss 0.0349 (0.0349)\t\n",
            "Epoch: [25][5/9]\tTime 1.174 (1.448)\tData 0.000 (0.266)\tLoss 0.9839 (0.3059)\t\n",
            "Validation [0/7]\tTime 1.175 (1.175)\tData 0.916 (0.916)\tLoss 7.9771 (7.9771)\t\n",
            "Validation [5/7]\tTime 0.268 (0.489)\tData 0.000 (0.225)\tLoss 0.0050 (4.0618)\t\n",
            "Epoch [25]: Validation Accuracy 66.667\t\n",
            "saved_model\n",
            "Epoch: [26][0/9]\tTime 2.173 (2.173)\tData 0.974 (0.974)\tLoss 0.1579 (0.1579)\t\n",
            "Epoch: [26][5/9]\tTime 1.185 (1.342)\tData 0.000 (0.164)\tLoss 0.2858 (0.1972)\t\n",
            "Validation [0/7]\tTime 1.014 (1.014)\tData 0.762 (0.762)\tLoss 11.1706 (11.1706)\t\n",
            "Validation [5/7]\tTime 0.273 (0.401)\tData 0.000 (0.128)\tLoss 0.0037 (5.6385)\t\n",
            "Epoch [26]: Validation Accuracy 66.667\t\n",
            "saved_model\n",
            "Epoch: [27][0/9]\tTime 2.218 (2.218)\tData 1.012 (1.012)\tLoss 0.0727 (0.0727)\t\n",
            "Epoch: [27][5/9]\tTime 1.177 (1.347)\tData 0.000 (0.169)\tLoss 0.0721 (0.1090)\t\n",
            "Validation [0/7]\tTime 0.802 (0.802)\tData 0.540 (0.540)\tLoss 7.9799 (7.9799)\t\n",
            "Validation [5/7]\tTime 0.273 (0.360)\tData 0.000 (0.091)\tLoss 0.0196 (4.2744)\t\n",
            "Epoch [27]: Validation Accuracy 58.333\t\n",
            "saved_model\n",
            "Epoch: [28][0/9]\tTime 2.103 (2.103)\tData 0.911 (0.911)\tLoss 0.0367 (0.0367)\t\n",
            "Epoch: [28][5/9]\tTime 1.176 (1.327)\tData 0.000 (0.153)\tLoss 0.0449 (0.8310)\t\n",
            "Validation [0/7]\tTime 0.847 (0.847)\tData 0.585 (0.585)\tLoss 5.6035 (5.6035)\t\n",
            "Validation [5/7]\tTime 0.270 (0.371)\tData 0.000 (0.098)\tLoss 0.0109 (2.8687)\t\n",
            "Epoch [28]: Validation Accuracy 58.333\t\n",
            "saved_model\n",
            "Epoch: [29][0/9]\tTime 2.130 (2.130)\tData 0.933 (0.933)\tLoss 0.0455 (0.0455)\t\n",
            "Epoch: [29][5/9]\tTime 1.175 (1.339)\tData 0.000 (0.161)\tLoss 0.1777 (0.1726)\t\n",
            "Validation [0/7]\tTime 0.718 (0.718)\tData 0.461 (0.461)\tLoss 4.8243 (4.8243)\t\n",
            "Validation [5/7]\tTime 0.266 (0.345)\tData 0.000 (0.078)\tLoss 0.1197 (2.3942)\t\n",
            "Epoch [29]: Validation Accuracy 66.667\t\n",
            "saved_model\n"
          ]
        }
      ]
    },
    {
      "cell_type": "markdown",
      "source": [
        "### Model Achieved 66.67 % Validation accuracy in 30 epochs"
      ],
      "metadata": {
        "id": "-G_Z6x2Y_YRE"
      }
    }
  ]
}